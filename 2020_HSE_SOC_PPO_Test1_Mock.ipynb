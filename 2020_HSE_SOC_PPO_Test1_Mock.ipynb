{
 "cells": [
  {
   "cell_type": "markdown",
   "metadata": {
    "colab_type": "text",
    "id": "NCfeKkMf29Ax"
   },
   "source": [
    "# Самостоятельная 1\n",
    "Социлогия | 1 курс | ППО\n",
    "Преподаватели: Рогович Т.В., Лебедева В.А, Бирюков В.А.\n",
    "\n",
    "## Формат проведения\n",
    "\n",
    "**Списывание и использование телефонов**\n",
    "\n",
    "Первое предупреждение, сделанное ассистентом или преподавателем: - 1 балл к вашей оценке.\n",
    "\n",
    "Второе предупреждение: работа аннулируется без права переписывания.\n",
    "\n",
    "\n",
    "## **Важно**\n",
    "## Все задачи должны принимать значения на ввод (решение для частного случая будет считаться неполным)."
   ]
  },
  {
   "cell_type": "markdown",
   "metadata": {
    "colab_type": "text",
    "id": "xnXOhLagyAbg"
   },
   "source": [
    "**1. Тест**  \n",
    "*(2 балла, каждый ответ 0.2 балла)*\n"
   ]
  },
  {
   "cell_type": "markdown",
   "metadata": {
    "colab_type": "text",
    "id": "T0aX7WL_yLIh"
   },
   "source": [
    "1. Как выглядит знак возведения в степень в Python?"
   ]
  },
  {
   "cell_type": "code",
   "execution_count": 0,
   "metadata": {
    "colab": {},
    "colab_type": "code",
    "id": "pvpEMwbqbgE0"
   },
   "outputs": [],
   "source": [
    "**"
   ]
  },
  {
   "cell_type": "markdown",
   "metadata": {
    "colab_type": "text",
    "id": "nS1Ks87qyt5-"
   },
   "source": [
    "2. Выведите строки, данные ниже, следующим образом, дополнив код на месте многоточия в следующей ячейке. После 'Форматирование---' и \"Это---\" должна быть пустая строка. Новые print() создавать нельзя:\n",
    "\n",
    "Форматирование---\n",
    "\n",
    "Это---\n",
    "\n",
    "Просто---\n"
   ]
  },
  {
   "cell_type": "code",
   "execution_count": 1,
   "metadata": {
    "colab": {
     "base_uri": "https://localhost:8080/",
     "height": 34
    },
    "colab_type": "code",
    "id": "kqI0c3aFypyl",
    "outputId": "aed2aef3-7551-404a-84c7-b47873df997c"
   },
   "outputs": [
    {
     "name": "stdout",
     "output_type": "stream",
     "text": [
      "Форматирование\n",
      "Это\n",
      "Просто\n"
     ]
    }
   ],
   "source": [
    "print('Форматирование', 'Это', \"Просто\", sep='\\n') # напишите ответ, изменив эту строчку кода"
   ]
  },
  {
   "cell_type": "markdown",
   "metadata": {
    "colab_type": "text",
    "id": "mslcYWMozOgB"
   },
   "source": [
    "3. Укажите правильный способ конкатенации строк.         \n",
    "а. 'string1' + 'string2'  \n",
    "b. 'string1' . 'string2'  \n",
    "c.  'string1'.strip() 'string2'  \n",
    "d.  'string1' : 'string2'\""
   ]
  },
  {
   "cell_type": "code",
   "execution_count": 0,
   "metadata": {
    "colab": {},
    "colab_type": "code",
    "id": "6os2349fbkEe"
   },
   "outputs": [],
   "source": [
    "+"
   ]
  },
  {
   "cell_type": "markdown",
   "metadata": {
    "colab_type": "text",
    "id": "s8Al0Xe5z7ql"
   },
   "source": [
    "4. Что из ниже перечисленного является правильным написанием логической переменной “ложь” в Python?  \n",
    "a. FALSE  \n",
    "b. False  \n",
    "c. false  "
   ]
  },
  {
   "cell_type": "code",
   "execution_count": 0,
   "metadata": {
    "colab": {},
    "colab_type": "code",
    "id": "ay9oaPrmbnIa"
   },
   "outputs": [],
   "source": [
    "False  # \"правда\" пишется True"
   ]
  },
  {
   "cell_type": "markdown",
   "metadata": {
    "colab_type": "text",
    "id": "F6bRHMbd0vYN"
   },
   "source": [
    "5. Какая из перечисленных операций \n",
    "сравнений является верной?      \n",
    "a. <>  \n",
    "b. =<  \n",
    "c. =  \n",
    "d. !="
   ]
  },
  {
   "cell_type": "code",
   "execution_count": 0,
   "metadata": {
    "colab": {},
    "colab_type": "code",
    "id": "wWRNM4trbsOc"
   },
   "outputs": [],
   "source": [
    "!= \n",
    "# а. Такого нет  \n",
    "# b. Равно должно стоять в конце\n",
    "# c. Одинарное равно означает присваивание, а не сравнение\n",
    "# d. Правильный ответ"
   ]
  },
  {
   "cell_type": "markdown",
   "metadata": {
    "colab_type": "text",
    "id": "4nPuoDlq1T8G"
   },
   "source": [
    "6. Какой тип данных имеет выражение 2.5 * 5?        \n",
    "a. int  \n",
    "b. float  \n",
    "c. dict  \n",
    "d. string"
   ]
  },
  {
   "cell_type": "code",
   "execution_count": 0,
   "metadata": {
    "colab": {},
    "colab_type": "code",
    "id": "Y9iktBa9bupZ"
   },
   "outputs": [],
   "source": [
    "float\n",
    "# float * int == float Это легко проверить, сделаем это в следующей строчке"
   ]
  },
  {
   "cell_type": "code",
   "execution_count": 3,
   "metadata": {},
   "outputs": [
    {
     "data": {
      "text/plain": [
       "float"
      ]
     },
     "execution_count": 3,
     "metadata": {},
     "output_type": "execute_result"
    }
   ],
   "source": [
    "type(2.5)"
   ]
  },
  {
   "cell_type": "code",
   "execution_count": 4,
   "metadata": {},
   "outputs": [
    {
     "data": {
      "text/plain": [
       "int"
      ]
     },
     "execution_count": 4,
     "metadata": {},
     "output_type": "execute_result"
    }
   ],
   "source": [
    "type(5)"
   ]
  },
  {
   "cell_type": "code",
   "execution_count": 2,
   "metadata": {},
   "outputs": [
    {
     "data": {
      "text/plain": [
       "float"
      ]
     },
     "execution_count": 2,
     "metadata": {},
     "output_type": "execute_result"
    }
   ],
   "source": [
    "type(2.5 * 5)"
   ]
  },
  {
   "cell_type": "markdown",
   "metadata": {
    "colab_type": "text",
    "id": "GNV9X0aG13K4"
   },
   "source": [
    "7. В чем отличие math.floor от math.ceil()?"
   ]
  },
  {
   "cell_type": "code",
   "execution_count": 0,
   "metadata": {
    "colab": {},
    "colab_type": "code",
    "id": "bZ0yaxYebw3Q"
   },
   "outputs": [],
   "source": [
    "floor - это округление вниз, а ceil - округление вверх\n",
    "# (Легко запомнить: floor - это пол, он снизу, ceil - это потолок, он сверху)"
   ]
  },
  {
   "cell_type": "markdown",
   "metadata": {
    "colab_type": "text",
    "id": "lrDKxjRx2J71"
   },
   "source": [
    "8. К строке применили функцию:   \n",
    "replace('||', '|'). \n",
    "\n",
    "Программа вывела следующую строку: \n",
    "'| |'\n",
    "\n",
    "Какой была исходная строка?"
   ]
  },
  {
   "cell_type": "code",
   "execution_count": null,
   "metadata": {
    "colab": {},
    "colab_type": "code",
    "id": "ViVh2j5gb05g"
   },
   "outputs": [],
   "source": [
    "\"|| ||\" \n",
    "# Как это понять: replace(\"||\", \"|\") заменяет все \"||\" в строке на \"|\". В конечной строке только две палочки.\n",
    "# Значит, заменяя одну палочку обратно на две получим \"|| ||\".\n",
    "\n",
    "# Вообще говоря, эта задача неправильная. Почему? Посмотрим ниже. Все эти строки, к которым мы применили replace,\n",
    "# дали один и тот же результат, хотя все эти строки разные. То есть. по сути, здесь целых 4 ответа."
   ]
  },
  {
   "cell_type": "code",
   "execution_count": 11,
   "metadata": {},
   "outputs": [
    {
     "data": {
      "text/plain": [
       "'| |'"
      ]
     },
     "execution_count": 11,
     "metadata": {},
     "output_type": "execute_result"
    }
   ],
   "source": [
    "\"|| ||\".replace('||', '|')  # Заменили первые и вторые палочки на одну"
   ]
  },
  {
   "cell_type": "code",
   "execution_count": 8,
   "metadata": {},
   "outputs": [
    {
     "data": {
      "text/plain": [
       "'| |'"
      ]
     },
     "execution_count": 8,
     "metadata": {},
     "output_type": "execute_result"
    }
   ],
   "source": [
    "\"|| |\".replace('||', '|')  # Заменили первые палочки на одну, вторая и так одна"
   ]
  },
  {
   "cell_type": "code",
   "execution_count": 9,
   "metadata": {},
   "outputs": [
    {
     "data": {
      "text/plain": [
       "'| |'"
      ]
     },
     "execution_count": 9,
     "metadata": {},
     "output_type": "execute_result"
    }
   ],
   "source": [
    "\"| ||\".replace('||', '|')  # Заменили вторые палочки на одну, первая и так одна"
   ]
  },
  {
   "cell_type": "code",
   "execution_count": 10,
   "metadata": {},
   "outputs": [
    {
     "data": {
      "text/plain": [
       "'| |'"
      ]
     },
     "execution_count": 10,
     "metadata": {},
     "output_type": "execute_result"
    }
   ],
   "source": [
    "\"| |\".replace('||', '|')  # Не нашли двойных палочек, поэтому ничего не заменили"
   ]
  },
  {
   "cell_type": "markdown",
   "metadata": {
    "colab_type": "text",
    "id": "XqqiVV0I2pFA"
   },
   "source": [
    "9. Пароль должен состоять ровно из 10 символов и состоять только из букв. Вам даны два пароля, напишите программу, которая проверит их на правильность и выведет True для правильного пароля и False для неправильного."
   ]
  },
  {
   "cell_type": "code",
   "execution_count": 12,
   "metadata": {
    "colab": {},
    "colab_type": "code",
    "id": "Y71xZlSA3J0e"
   },
   "outputs": [
    {
     "name": "stdout",
     "output_type": "stream",
     "text": [
      "True\n",
      "False\n"
     ]
    }
   ],
   "source": [
    "pass1 = 'qweABCjoHn'\n",
    "pass2 = 'asdfPassword1' \n",
    "\n",
    "print(len(pass1) == 10 and pass1.isalpha())  # Проверка для первого пароля\n",
    "print(len(pass2) == 10 and pass2.isalpha())  # Проверка для второго пароля"
   ]
  },
  {
   "cell_type": "markdown",
   "metadata": {
    "colab_type": "text",
    "id": "BQ0ztYB-2lTu"
   },
   "source": [
    "10. Дана строка с разными почтовыми ящиками. С помощью метода строковых переменных выведите количество почтовых адресов в строке. В этой задаче, все, что содержит знак '@', считается правильным почтовым адресом."
   ]
  },
  {
   "cell_type": "code",
   "execution_count": 13,
   "metadata": {
    "colab": {},
    "colab_type": "code",
    "id": "5raKol0Z2iu6"
   },
   "outputs": [
    {
     "data": {
      "text/plain": [
       "2"
      ]
     },
     "execution_count": 13,
     "metadata": {},
     "output_type": "execute_result"
    }
   ],
   "source": [
    "emails =  'abc@gmail.com top_gamer2009@rambler.ru zuckerberg.yahoo.com'\n",
    "\n",
    "emails.count('@')  # В задаче просто просят посчитать количество собачек в строке"
   ]
  },
  {
   "cell_type": "markdown",
   "metadata": {
    "colab_type": "text",
    "id": "HF6Llrm02jUF"
   },
   "source": [
    "**2. Задачи на срезы строк**  \n",
    "*(1 балл, каждый вопрос 0.25 баллов)*"
   ]
  },
  {
   "cell_type": "code",
   "execution_count": 20,
   "metadata": {
    "colab": {},
    "colab_type": "code",
    "id": "Es6E2KLx3tDa"
   },
   "outputs": [],
   "source": [
    "ex3 = \"Please call me at 12:34 on the number 89123456789\""
   ]
  },
  {
   "cell_type": "markdown",
   "metadata": {
    "colab_type": "text",
    "id": "OhebaD5Z4QFf"
   },
   "source": [
    "1. Выведите строку, состоящую из первых 4-х символов данной строки"
   ]
  },
  {
   "cell_type": "code",
   "execution_count": 21,
   "metadata": {
    "colab": {},
    "colab_type": "code",
    "id": "MMchKq2q4W92"
   },
   "outputs": [
    {
     "data": {
      "text/plain": [
       "'Plea'"
      ]
     },
     "execution_count": 21,
     "metadata": {},
     "output_type": "execute_result"
    }
   ],
   "source": [
    "ex3[:4]"
   ]
  },
  {
   "cell_type": "markdown",
   "metadata": {
    "colab_type": "text",
    "id": "Zy9y9EuA4bLS"
   },
   "source": [
    "2. Выведите строку без последнего символа с использованием индексации с конца строки"
   ]
  },
  {
   "cell_type": "code",
   "execution_count": 22,
   "metadata": {
    "colab": {},
    "colab_type": "code",
    "id": "zavV6dZD4lIQ"
   },
   "outputs": [
    {
     "data": {
      "text/plain": [
       "'Please call me at 12:34 on the number 8912345678'"
      ]
     },
     "execution_count": 22,
     "metadata": {},
     "output_type": "execute_result"
    }
   ],
   "source": [
    "ex3[:-1]"
   ]
  },
  {
   "cell_type": "markdown",
   "metadata": {
    "colab_type": "text",
    "id": "Bc8D44WP7yEn"
   },
   "source": [
    "3. Выведите строку, идущую в обратном направлении"
   ]
  },
  {
   "cell_type": "code",
   "execution_count": 23,
   "metadata": {
    "colab": {},
    "colab_type": "code",
    "id": "jDn0NSYt4mrU"
   },
   "outputs": [
    {
     "data": {
      "text/plain": [
       "'98765432198 rebmun eht no 43:21 ta em llac esaelP'"
      ]
     },
     "execution_count": 23,
     "metadata": {},
     "output_type": "execute_result"
    }
   ],
   "source": [
    "ex3[::-1]"
   ]
  },
  {
   "cell_type": "markdown",
   "metadata": {
    "colab_type": "text",
    "id": "pZnB_3D-72b2"
   },
   "source": [
    "4. Выведите строку, образованную из нечетных индексов данной строки\n",
    "('Pes alm t1:4o h ubr813579')"
   ]
  },
  {
   "cell_type": "code",
   "execution_count": 26,
   "metadata": {
    "colab": {},
    "colab_type": "code",
    "id": "BNZwpJV171LE"
   },
   "outputs": [
    {
     "data": {
      "text/plain": [
       "'Pes alm t1:4o h ubr813579'"
      ]
     },
     "execution_count": 26,
     "metadata": {},
     "output_type": "execute_result"
    }
   ],
   "source": [
    "ex3[::2]  \n",
    "# Вообще-то это опять неправильное задание. Нечетные индексы строки это 1, 3, 5 и тд.\n",
    "# Тут строка выводится с буквы P, а эта буква стоит на нулевом месте (помним, что в питоне все нумеруется с 0).\n",
    "# Так что правильнее было бы написать ex3[1::2] - типа \"начинай выводить с 1 элемента и через один\""
   ]
  },
  {
   "cell_type": "markdown",
   "metadata": {
    "colab_type": "text",
    "id": "exw92wfF2n0n"
   },
   "source": [
    "\n",
    "## **Важно**\n",
    "## Все задачи должны принимать значения на ввод (решение для частного случая будет считаться неполным)."
   ]
  },
  {
   "cell_type": "markdown",
   "metadata": {
    "colab_type": "text",
    "id": "vu90QzIPnUiZ"
   },
   "source": [
    "## **3. Задача 1**\n",
    "*(0.75 балла)*"
   ]
  },
  {
   "cell_type": "markdown",
   "metadata": {
    "colab_type": "text",
    "id": "rs1U-nQsoIho"
   },
   "source": [
    "### Условие"
   ]
  },
  {
   "cell_type": "markdown",
   "metadata": {
    "colab_type": "text",
    "id": "0GRgNV2yoKk-"
   },
   "source": [
    "Напишите программу, которая прибавляет 1 к натуральному числу N (длина числа N до 1000 знаков) "
   ]
  },
  {
   "cell_type": "markdown",
   "metadata": {
    "colab_type": "text",
    "id": "jsph160aoNDR"
   },
   "source": [
    "### Формат ввода"
   ]
  },
  {
   "cell_type": "markdown",
   "metadata": {
    "colab_type": "text",
    "id": "Y0VpIlAPoPBI"
   },
   "source": [
    "Дано чиcло N. "
   ]
  },
  {
   "cell_type": "markdown",
   "metadata": {
    "colab_type": "text",
    "id": "kjBPZ4jloQ12"
   },
   "source": [
    "### Формат вывода"
   ]
  },
  {
   "cell_type": "markdown",
   "metadata": {
    "colab_type": "text",
    "id": "w5YZfYt5oSXN"
   },
   "source": [
    "\n",
    "\n",
    "Выведите число N+1. "
   ]
  },
  {
   "cell_type": "markdown",
   "metadata": {
    "colab_type": "text",
    "id": "gbgdTpWToTtz"
   },
   "source": [
    "### Пример 1\n",
    "\n",
    "**Ввод:** 1 <br>\n",
    "**Вывод:** 2"
   ]
  },
  {
   "cell_type": "markdown",
   "metadata": {
    "colab_type": "text",
    "id": "kbmGOOamohzY"
   },
   "source": [
    "### Пример 2\n",
    "\n",
    "**Ввод:** 5 <br>\n",
    "**Вывод:** 6"
   ]
  },
  {
   "cell_type": "markdown",
   "metadata": {
    "colab_type": "text",
    "id": "VPDTdjwColZJ"
   },
   "source": [
    "### Пример 3\n",
    "\n",
    "**Ввод:** 9 <br>\n",
    "**Вывод:** 10"
   ]
  },
  {
   "cell_type": "code",
   "execution_count": 27,
   "metadata": {
    "colab": {},
    "colab_type": "code",
    "id": "aS_wtX3doxCW"
   },
   "outputs": [
    {
     "name": "stdout",
     "output_type": "stream",
     "text": [
      "3\n",
      "4\n"
     ]
    }
   ],
   "source": [
    "i = int(input())\n",
    "print(i + 1)"
   ]
  },
  {
   "cell_type": "markdown",
   "metadata": {
    "colab_type": "text",
    "id": "mKnT71QpdyzJ"
   },
   "source": [
    "## **4. Задача 2**\n",
    "*(0.75 балла)*\n",
    "\n",
    "## 100 раз подряд в квадрате\n",
    "\n",
    "### Условие\n",
    "Заданное число N записали 100 раз подряд и затем возвели в квадрат. Что получилось? \n",
    "\n",
    "### Формат ввода\n",
    "\n",
    "\n",
    "\n",
    "Вводится целое неотрицательное число N не превышающее 1000. \n",
    "\n",
    "### Формат вывода\n",
    "\n",
    "\n",
    "\n",
    "Выведите ответ на задачу.\n",
    "\n",
    "### Пример\n",
    "\n",
    "**Ввод:** 0 <br>\n",
    "\n",
    "\n",
    "**Вывод:** 0"
   ]
  },
  {
   "cell_type": "code",
   "execution_count": 28,
   "metadata": {
    "colab": {},
    "colab_type": "code",
    "id": "8HWArcMDdyZ6"
   },
   "outputs": [
    {
     "name": "stdout",
     "output_type": "stream",
     "text": [
      "2\n",
      "4938271604938271604938271604938271604938271604938271604938271604938271604938271604938271604938271603950617283950617283950617283950617283950617283950617283950617283950617283950617283950617283950617284\n"
     ]
    }
   ],
   "source": [
    "n = input()  # Вводим как строку, а не как число!\n",
    "n = n * 100  # Пишем 100 раз подряд\n",
    "n = int(n)  # Преобразовали к числу\n",
    "n = n ** 2  # Возвели в квадрат\n",
    "print (n)"
   ]
  },
  {
   "cell_type": "markdown",
   "metadata": {
    "colab_type": "text",
    "id": "RBZxjbKto385"
   },
   "source": [
    "## **5. Задача 3**\n",
    "*(1 балл)*\n",
    "\n",
    "## Вова и планеты"
   ]
  },
  {
   "cell_type": "markdown",
   "metadata": {
    "colab_type": "text",
    "id": "BXbK8qMUpIuw"
   },
   "source": [
    " ### Условие\n",
    "\n",
    "Вова хочет стать космонавтом и ему интересно, сколько ему и его друзьям исполнилось лет в системе летоисчесления других планет Солнечной системы. Напишите программу, которая бы рассчитывала возраст человека на Венере, Марсе и Луне. Программе дается на ввод имя, возраст и название планеты (Венера, Марс, Луна), а выводится возраст, рассчитаный для этой планеты, по образцу в примере.\n",
    "\n",
    "Получившийся возраст может иметь дробную часть. Не округляйте его.\n",
    "\n",
    "Коэффициент возраста для Юпитера: 0.033  \n",
    "Коэффициент возраста для Марса: 0.531  \n",
    "Коэффициент возраста для Венеры: 1.62"
   ]
  },
  {
   "cell_type": "markdown",
   "metadata": {
    "colab_type": "text",
    "id": "SbEUuqvypVZh"
   },
   "source": [
    "### Пример 1\n",
    "\n",
    "**Ввод:** <br>\n",
    "Вова <br>\n",
    "13 <br>\n",
    "Юпитер <br>\n",
    "\n",
    "**Вывод:** <br>\n",
    "На планете Юпитер Вова живет уже 0.429 лет"
   ]
  },
  {
   "cell_type": "markdown",
   "metadata": {
    "colab_type": "text",
    "id": "7DTXt2rAp0vx"
   },
   "source": [
    "### Пример 2\n",
    "\n",
    "**Ввод:** <br>\n",
    "Андрей <br>\n",
    "17 <br>\n",
    "Марс <br>\n",
    "\n",
    "**Вывод:** <br>\n",
    "На планете Марс Андрей живет уже 9.027 лет"
   ]
  },
  {
   "cell_type": "code",
   "execution_count": 30,
   "metadata": {
    "colab": {},
    "colab_type": "code",
    "id": "DE_tX_FQp4Q9"
   },
   "outputs": [
    {
     "name": "stdout",
     "output_type": "stream",
     "text": [
      "Маша\n",
      "15\n",
      "Венера\n",
      "На планете Венера Маша живет уже 24.3 лет\n"
     ]
    }
   ],
   "source": [
    "name = input()  # Вводим как строку\n",
    "age = int(input())  # Вводим как число\n",
    "planet = input()  # Вводим как строку\n",
    "\n",
    "if planet == \"Юпитер\":\n",
    "    age = age * 0.033\n",
    "elif planet == \"Марс\":\n",
    "    age = age * 0.531\n",
    "elif planet == \"Венера\":\n",
    "    age = age * 1.62\n",
    "else:\n",
    "    print(\"Вы ввели какую-то сранную планету! Я не знаю ее коэффициента :(\")\n",
    "\n",
    "print(\"На планете\", planet, name, \"живет уже\", age, \"лет\")\n",
    "    "
   ]
  },
  {
   "cell_type": "markdown",
   "metadata": {
    "colab_type": "text",
    "id": "4P86hjVbp6Xs"
   },
   "source": [
    "## **6. Задача 4**\n",
    "*(1 балл)*\n",
    "\n",
    "## Список квадратов"
   ]
  },
  {
   "cell_type": "markdown",
   "metadata": {
    "colab_type": "text",
    "id": "qcPOg7n7qScZ"
   },
   "source": [
    "### Условие\n",
    "По данному целому числу N распечатайте все квадраты натуральных чисел, не превосходящие N, в порядке возрастания. "
   ]
  },
  {
   "cell_type": "markdown",
   "metadata": {
    "colab_type": "text",
    "id": "YB-mPGm2qVWc"
   },
   "source": [
    "### Формат ввода\n",
    "\n",
    "\n",
    "\n",
    "Вводится натуральное число. "
   ]
  },
  {
   "cell_type": "markdown",
   "metadata": {
    "colab_type": "text",
    "id": "BmwGHGXOqZdY"
   },
   "source": [
    "### Формат вывода\n",
    "\n",
    "\n",
    "\n",
    "Выведите ответ на задачу. "
   ]
  },
  {
   "cell_type": "markdown",
   "metadata": {
    "colab_type": "text",
    "id": "npxf7YYzqchR"
   },
   "source": [
    "### Пример 1\n",
    "\n",
    "**Ввод:** 50 <br>\n",
    "\n",
    "**Вывод:** <br>\n",
    "1 <br>\n",
    "4 <br>\n",
    "9 <br>\n",
    "16 <br>\n",
    "25 <br>\n",
    "36 <br>\n",
    "49"
   ]
  },
  {
   "cell_type": "markdown",
   "metadata": {
    "colab_type": "text",
    "id": "58ZkE17hqvRB"
   },
   "source": [
    "### Пример 2\n",
    "\n",
    "**Ввод:** 10 <br>\n",
    "\n",
    "**Вывод:** <br>\n",
    "1 <br>\n",
    "4 <br>\n",
    "9 <br>"
   ]
  },
  {
   "cell_type": "markdown",
   "metadata": {
    "colab_type": "text",
    "id": "u1xe1xBMqzdM"
   },
   "source": [
    "### Пример 3\n",
    "\n",
    "**Ввод:** 9 <br>\n",
    "\n",
    "**Вывод:** <br>\n",
    "1 <br>\n",
    "4 <br>\n",
    "9 <br>"
   ]
  },
  {
   "cell_type": "code",
   "execution_count": 31,
   "metadata": {
    "colab": {},
    "colab_type": "code",
    "id": "n57PGhJ5sxGc"
   },
   "outputs": [
    {
     "name": "stdout",
     "output_type": "stream",
     "text": [
      "50\n",
      "1\n",
      "4\n",
      "9\n",
      "16\n",
      "25\n",
      "36\n",
      "49\n"
     ]
    }
   ],
   "source": [
    "n = int(input())\n",
    "\n",
    "i = 1\n",
    "double_i = i * i  # Квадрат единицы это единиица\n",
    "while double_i < n:  # Пока квадрат числа меньше n\n",
    "    print (double_i)  # Печатаем\n",
    "    i += 1  # Прибавляем 1 к текущему числу\n",
    "    double_i = i * i  # Считаем новый квадрат"
   ]
  },
  {
   "cell_type": "markdown",
   "metadata": {
    "colab_type": "text",
    "id": "rz7rtFnGrGGG"
   },
   "source": [
    "## **7. Задача 5**\n",
    "*(2 балла)*\n",
    "\n",
    "## Ход слона"
   ]
  },
  {
   "cell_type": "markdown",
   "metadata": {
    "colab_type": "text",
    "id": "22wQ97DbrHCi"
   },
   "source": [
    "### Условие\n",
    "\n",
    "\n",
    "\n",
    "Шахматный слон ходит по диагонали. Даны две различные клетки шахматной доски, определите, может ли слон попасть с первой клетки на вторую одним ходом. "
   ]
  },
  {
   "cell_type": "markdown",
   "metadata": {
    "colab_type": "text",
    "id": "8wje8nu7rJtn"
   },
   "source": [
    "### Формат ввода\n",
    "\n",
    "\n",
    "\n",
    "Программа получает на вход четыре числа от 1 до 8 каждое, задающие номер столбца и номер строки сначала для первой клетки, потом для второй клетки. "
   ]
  },
  {
   "cell_type": "markdown",
   "metadata": {
    "colab_type": "text",
    "id": "8Vy5efSarN6I"
   },
   "source": [
    "### Формат вывода\n",
    "\n",
    "\n",
    "\n",
    "Программа должна вывести YES, если из первой клетки ходом слона можно попасть во вторую или NO в противном случае. "
   ]
  },
  {
   "cell_type": "markdown",
   "metadata": {
    "colab_type": "text",
    "id": "3IDWOiaUrXEy"
   },
   "source": [
    "### Пример 1\n",
    "\n",
    "**Ввод:** <br>\n",
    "4 <br>\n",
    "4 <br>\n",
    "5 <br>\n",
    "5 <br>\n",
    "\n",
    "**Вывод:** <br>\n",
    "YES "
   ]
  },
  {
   "cell_type": "markdown",
   "metadata": {
    "colab_type": "text",
    "id": "JswbURXEril1"
   },
   "source": [
    "### Пример 2\n",
    "\n",
    "**Ввод:** <br>\n",
    "4 <br>\n",
    "4 <br>\n",
    "5 <br>\n",
    "4 <br>\n",
    "\n",
    "**Вывод:** <br>\n",
    "NO "
   ]
  },
  {
   "cell_type": "markdown",
   "metadata": {
    "colab_type": "text",
    "id": "LD89YLX6rlF0"
   },
   "source": [
    "### Пример 3\n",
    "\n",
    "**Ввод:** <br>\n",
    "4 <br>\n",
    "4 <br>\n",
    "5 <br>\n",
    "3 <br>\n",
    "\n",
    "**Вывод:** <br>\n",
    "YES "
   ]
  },
  {
   "cell_type": "code",
   "execution_count": 35,
   "metadata": {
    "colab": {},
    "colab_type": "code",
    "id": "rtSZyqaPszSI"
   },
   "outputs": [
    {
     "name": "stdout",
     "output_type": "stream",
     "text": [
      "4\n",
      "4\n",
      "5\n",
      "4\n",
      "NO\n"
     ]
    }
   ],
   "source": [
    "# Итак, что значит, что слон ходит по-диагонали:\n",
    "# Пусть есть поле 5 x 5, и слон стоит в центре, в клетке с координатами: х = 3, y = 33\n",
    "#   1 2 3 4 5 x\n",
    "# 1 * * * * *\n",
    "# 2 * * * * *\n",
    "# 3 * * c * *\n",
    "# 4 * * * * *\n",
    "# 5 * * * * *\n",
    "# y\n",
    "# \n",
    "# Получается, слон может пойти только в клетки с координатами (4, 2), (4, 4), (2, 4), (2, 2) - то есть, \n",
    "# мы либо к обеим текущим координатам прибавляем единицу, либо из обеих вычитаем, либо к одно1 прибавляем, \n",
    "# а из другой вычитаем, чтобы получить новые координаты слона. Поэтому в примере 2 выводится NO: слон стоит\n",
    "# в (4, 4). (5, 4) означает, что к первой координате прибавили 1, а вот вторая не изменилась.\n",
    "\n",
    "x = int(input())\n",
    "y = int(input())\n",
    "new_x = int(input())\n",
    "new_y = int(input())\n",
    "\n",
    "if (x - 1 == new_x or x + 1 == new_x) and (y - 1 == new_y or y + 1 == new_y):\n",
    "    print(\"YES\")\n",
    "else:\n",
    "    print(\"NO\")"
   ]
  },
  {
   "cell_type": "markdown",
   "metadata": {
    "colab_type": "text",
    "id": "k0AT_3PMrpU3"
   },
   "source": [
    "## **8. Задача 6**\n",
    "*(1.5 балла)*\n",
    "\n",
    "## Среднее значение последовательности"
   ]
  },
  {
   "cell_type": "markdown",
   "metadata": {
    "colab_type": "text",
    "id": "AeQrV48Xr1Pr"
   },
   "source": [
    "### Условие\n",
    "\n",
    "\n",
    "\n",
    "\n",
    "\n",
    "Определите среднее значение всех элементов последовательности, завершающейся числом 0. Использовать массивы в данной задаче нельзя. "
   ]
  },
  {
   "cell_type": "markdown",
   "metadata": {
    "colab_type": "text",
    "id": "uNLzSOK-r3kg"
   },
   "source": [
    "### Формат ввода\n",
    "\n",
    "\n",
    "\n",
    "\n",
    "\n",
    "Вводится последовательность целых чисел, оканчивающаяся числом 0 (само число 0 в последовательность не входит, а служит как признак ее окончания. "
   ]
  },
  {
   "cell_type": "markdown",
   "metadata": {
    "colab_type": "text",
    "id": "QgFiV4Jsr6ks"
   },
   "source": [
    "### Формат вывода\n",
    "\n",
    "\n",
    "\n",
    "\n",
    "\n",
    "Выведите ответ на задачу. "
   ]
  },
  {
   "cell_type": "markdown",
   "metadata": {
    "colab_type": "text",
    "id": "jVieOhEXr9WT"
   },
   "source": [
    "### Пример 1\n",
    "\n",
    "**Ввод:** <br>\n",
    "1 <br>\n",
    "7 <br>\n",
    "9 <br>\n",
    "0 <br>\n",
    "\n",
    "**Вывод:** <br>\n",
    "5.66666666667"
   ]
  },
  {
   "cell_type": "markdown",
   "metadata": {
    "colab_type": "text",
    "id": "3a9GF0zWsF7a"
   },
   "source": [
    "### Пример 2\n",
    "\n",
    "**Ввод:** <br>\n",
    "1 <br>\n",
    "1 <br>\n",
    "1 <br>\n",
    "1 <br>\n",
    "1 <br>\n",
    "1 <br>\n",
    "1 <br>\n",
    "1 <br>\n",
    "1 <br>\n",
    "0 <br>\n",
    "\n",
    "**Вывод:** <br>\n",
    "1.0"
   ]
  },
  {
   "cell_type": "markdown",
   "metadata": {
    "colab_type": "text",
    "id": "cp7FYIyCsLsC"
   },
   "source": [
    "### Пример 3\n",
    "\n",
    "**Ввод:** <br>\n",
    "34 <br>\n",
    "2345 <br>\n",
    "2345 <br>\n",
    "2345 <br>\n",
    "2345 <br>\n",
    "345 <br>\n",
    "3 <br>\n",
    "345 <br>\n",
    "3 <br>\n",
    "345 <br>\n",
    "1 <br>\n",
    "3 <br>\n",
    "424 <br>\n",
    "5 <br>\n",
    "453 <br>\n",
    "0 <br>\n",
    "\n",
    "**Вывод:** <br>\n",
    "756.066666667"
   ]
  },
  {
   "cell_type": "code",
   "execution_count": 36,
   "metadata": {
    "colab": {},
    "colab_type": "code",
    "id": "PGuU_pcQs1hn"
   },
   "outputs": [
    {
     "name": "stdout",
     "output_type": "stream",
     "text": [
      "3\n",
      "5\n",
      "7\n",
      "1\n",
      "0\n",
      "4.0\n"
     ]
    }
   ],
   "source": [
    "# Будем вводить числа, пока нам не встретится 0 (что будет признаком окончания ввода. Также будем суммировать\n",
    "# приходящие числа и считать их количество (потому что среднее - это сумма деленная на количество))\n",
    "\n",
    "n = int(input())  # Вводим число. Осторожно! Оно может оказаться нулем\n",
    "summa = 0  # В сумму еще ничего не записали\n",
    "number = 0  # Пока мы не проверили, что первое введенное число не ноль, будем считать, что еще ничего не ввели\n",
    "while n != 0:  # До тех пор, пока мы не ввели 0\n",
    "    summa += n  # К сумме прибавляем новое число\n",
    "    number += 1  # К количеству прибавляем 1\n",
    "    n = int(input())  # Вводим новое число\n",
    "\n",
    "print(summa/number)"
   ]
  }
 ],
 "metadata": {
  "colab": {
   "collapsed_sections": [],
   "name": "2020_HSE_SOC_PPO_Test1_Mock.ipynb",
   "provenance": []
  },
  "kernelspec": {
   "display_name": "Python 3",
   "language": "python",
   "name": "python3"
  },
  "language_info": {
   "codemirror_mode": {
    "name": "ipython",
    "version": 3
   },
   "file_extension": ".py",
   "mimetype": "text/x-python",
   "name": "python",
   "nbconvert_exporter": "python",
   "pygments_lexer": "ipython3",
   "version": "3.6.8"
  }
 },
 "nbformat": 4,
 "nbformat_minor": 1
}
